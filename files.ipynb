{
 "cells": [
  {
   "cell_type": "code",
   "execution_count": 22,
   "metadata": {},
   "outputs": [],
   "source": [
    "import pandas as pd\n",
    "import os\n",
    "import glob\n",
    "\n",
    "def convert_parquet_to_txt(dataset_name, text_key=\"text\"):\n",
    "    text = \"\"\n",
    "    pattern = f\"wikitext/wikitext-103-raw-v1/{dataset_name}-*-of-*.parquet\"\n",
    "    parquet_files = glob.glob(pattern)\n",
    "    \n",
    "    for parquet_file in parquet_files:\n",
    "        df = pd.read_parquet(parquet_file)\n",
    "        text += \"\".join(df[text_key])\n",
    "        \n",
    "    os.makedirs(\"wikitext/wikitext-103-raw-v1-txt\", exist_ok=True)\n",
    "    output_path = f\"wikitext/wikitext-103-raw-v1-txt/{dataset_name}.txt\"\n",
    "    \n",
    "    with open(output_path, \"w\", encoding=\"utf-8\") as f:\n",
    "        f.write(text)\n",
    "\n",
    "convert_parquet_to_txt(\"train\")\n",
    "convert_parquet_to_txt(\"validation\") \n",
    "convert_parquet_to_txt(\"test\")"
   ]
  },
  {
   "cell_type": "code",
   "execution_count": 36,
   "metadata": {},
   "outputs": [],
   "source": [
    "from datasets import load_dataset\n",
    "ds = load_dataset(\"simplescaling/s1K-1.1\")[\"train\"]\n",
    "\n",
    "def create_text(entry):\n",
    "    text = \\\n",
    "        entry[\"question\"] + '\\n' + \\\n",
    "        entry[\"gemini_thinking_trajectory\"] + \\\n",
    "        entry[\"gemini_attempt\"]\n",
    "    return {\"text\": text}\n",
    "\n",
    "ds = ds.map(create_text)\n",
    "\n",
    "# Split into train/val/test\n",
    "ds = ds.train_test_split(test_size=0.2, seed=42)\n",
    "test_valid = ds[\"test\"].train_test_split(test_size=0.5, seed=42)\n",
    "\n",
    "train_ds = ds[\"train\"]\n",
    "valid_ds = test_valid[\"train\"] \n",
    "test_ds = test_valid[\"test\"]\n",
    "\n",
    "# Write to txt files\n",
    "os.makedirs(\"s1\", exist_ok=True)\n",
    "\n",
    "with open(\"s1/train.txt\", \"w\", encoding=\"utf-8\") as f:\n",
    "    f.write(\"\".join(train_ds[\"text\"]))\n",
    "    \n",
    "with open(\"s1/validation.txt\", \"w\", encoding=\"utf-8\") as f:\n",
    "    f.write(\"\".join(valid_ds[\"text\"]))\n",
    "    \n",
    "with open(\"s1/test.txt\", \"w\", encoding=\"utf-8\") as f:\n",
    "    f.write(\"\".join(test_ds[\"text\"]))"
   ]
  }
 ],
 "metadata": {
  "kernelspec": {
   "display_name": ".venv",
   "language": "python",
   "name": "python3"
  },
  "language_info": {
   "codemirror_mode": {
    "name": "ipython",
    "version": 3
   },
   "file_extension": ".py",
   "mimetype": "text/x-python",
   "name": "python",
   "nbconvert_exporter": "python",
   "pygments_lexer": "ipython3",
   "version": "3.12.10"
  }
 },
 "nbformat": 4,
 "nbformat_minor": 2
}
