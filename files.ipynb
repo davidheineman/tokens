{
 "cells": [
  {
   "cell_type": "code",
   "execution_count": 4,
   "metadata": {},
   "outputs": [],
   "source": [
    "import pandas as pd\n",
    "import os\n",
    "import glob\n",
    "\n",
    "def convert_parquet_to_txt(dataset_name, text_key=\"text\"):\n",
    "    text = \"\"\n",
    "    pattern = f\"wikitext/wikitext-103-raw-v1/{dataset_name}-*-of-*.parquet\"\n",
    "    parquet_files = glob.glob(pattern)\n",
    "    \n",
    "    for parquet_file in parquet_files:\n",
    "        df = pd.read_parquet(parquet_file)\n",
    "        text += \"\".join(df[text_key])\n",
    "        \n",
    "    os.makedirs(\"wikitext/wikitext-103-raw-v1-txt\", exist_ok=True)\n",
    "    output_path = f\"wikitext/wikitext-103-raw-v1-txt/{dataset_name}.txt\"\n",
    "    \n",
    "    with open(output_path, \"w\", encoding=\"utf-8\") as f:\n",
    "        f.write(text)\n",
    "\n",
    "convert_parquet_to_txt(\"train\")\n",
    "convert_parquet_to_txt(\"validation\") \n",
    "convert_parquet_to_txt(\"test\")"
   ]
  },
  {
   "cell_type": "code",
   "execution_count": null,
   "metadata": {},
   "outputs": [
    {
     "name": "stderr",
     "output_type": "stream",
     "text": [
      "/root/ai2/tokens/.venv/lib/python3.12/site-packages/tqdm/auto.py:21: TqdmWarning: IProgress not found. Please update jupyter and ipywidgets. See https://ipywidgets.readthedocs.io/en/stable/user_install.html\n",
      "  from .autonotebook import tqdm as notebook_tqdm\n",
      "Generating train split: 100%|██████████| 1000/1000 [00:00<00:00, 7599.71 examples/s]\n",
      "Map: 100%|██████████| 1000/1000 [00:00<00:00, 3456.22 examples/s]\n"
     ]
    }
   ],
   "source": [
    "from datasets import load_dataset, Dataset, DatasetDict\n",
    "\n",
    "def create_text(entry):\n",
    "    text = \\\n",
    "        entry[\"question\"] + '\\n' + \\\n",
    "        entry[\"gemini_thinking_trajectory\"] + \\\n",
    "        entry[\"gemini_attempt\"]\n",
    "    return {\"text\": text}\n",
    "\n",
    "def split_and_save_ds(ds: Dataset, ds_name, text_key=\"text\"):\n",
    "    # Split into train/val/test\n",
    "    ds: DatasetDict = ds.train_test_split(test_size=0.2, seed=42)\n",
    "    test_valid: DatasetDict = ds[\"test\"].train_test_split(test_size=0.5, seed=42)\n",
    "\n",
    "    train_ds = ds[\"train\"]\n",
    "    valid_ds = test_valid[\"train\"] \n",
    "    test_ds = test_valid[\"test\"]\n",
    "\n",
    "    # Write to txt files\n",
    "    os.makedirs(ds_name, exist_ok=True)\n",
    "\n",
    "    with open(f\"{ds_name}/train.txt\", \"w\", encoding=\"utf-8\") as f:\n",
    "        f.write(\"\".join(train_ds[text_key]))\n",
    "        \n",
    "    with open(f\"{ds_name}/validation.txt\", \"w\", encoding=\"utf-8\") as f:\n",
    "        f.write(\"\".join(valid_ds[text_key]))\n",
    "        \n",
    "    with open(f\"{ds_name}/test.txt\", \"w\", encoding=\"utf-8\") as f:\n",
    "        f.write(\"\".join(test_ds[text_key]))\n",
    "\n",
    "ds = load_dataset(\"simplescaling/s1K-1.1\")[\"train\"]\n",
    "ds = ds.map(create_text)\n",
    "split_and_save_ds(ds, \"s1\")"
   ]
  },
  {
   "cell_type": "code",
   "execution_count": null,
   "metadata": {},
   "outputs": [],
   "source": [
    "def create_text(entry):\n",
    "    text = \"\"\n",
    "    for message in entry[\"conversations\"]:\n",
    "        text += message[\"value\"]\n",
    "    return {\"text\": text}\n",
    "\n",
    "ds = load_dataset(\"open-thoughts/OpenThoughts3-1.2M\")[\"train\"]\n",
    "ds = ds.map(create_text)\n",
    "split_and_save_ds(ds, \"open_thoughts\")"
   ]
  },
  {
   "cell_type": "code",
   "execution_count": null,
   "metadata": {},
   "outputs": [],
   "source": [
    "split_and_save_ds(ds, \"open_thoughts\")"
   ]
  }
 ],
 "metadata": {
  "kernelspec": {
   "display_name": ".venv",
   "language": "python",
   "name": "python3"
  },
  "language_info": {
   "codemirror_mode": {
    "name": "ipython",
    "version": 3
   },
   "file_extension": ".py",
   "mimetype": "text/x-python",
   "name": "python",
   "nbconvert_exporter": "python",
   "pygments_lexer": "ipython3",
   "version": "3.12.11"
  }
 },
 "nbformat": 4,
 "nbformat_minor": 2
}
